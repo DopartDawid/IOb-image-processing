{
 "cells": [
  {
   "cell_type": "markdown",
   "metadata": {},
   "source": [
    "# Zadanie 1"
   ]
  },
  {
   "cell_type": "code",
   "execution_count": null,
   "metadata": {},
   "outputs": [],
   "source": [
    "print(\"Próba notebooka 2.0\")"
   ]
  },
  {
   "cell_type": "markdown",
   "metadata": {},
   "source": [
    "# Zadanie 2"
   ]
  },
  {
   "cell_type": "code",
   "execution_count": null,
   "metadata": {},
   "outputs": [],
   "source": [
    "import cowsay\n",
    "from joke_generator import generate\n",
    "cowsay.milk(generate())"
   ]
  },
  {
   "cell_type": "markdown",
   "metadata": {},
   "source": [
    "# Zadanie 3"
   ]
  },
  {
   "cell_type": "code",
   "execution_count": null,
   "metadata": {},
   "outputs": [],
   "source": [
    "from math import gcd, sin, cos, radians\n",
    "def tangens(arg1, arg2):\n",
    "    return sin(radians(arg1)) / cos(radians(arg2))\n",
    "\n",
    "with open('output.txt', 'w') as result:\n",
    "    with open('input.txt', 'r') as file:\n",
    "        for args in file.readlines():\n",
    "            args = list(map(int, args.split()))\n",
    "            result.write(f\"{args[0]}  {args[1]} | gcd: {gcd(*args)} tan: {round(tangens(*args), 4)} \\n\")\n"
   ]
  },
  {
   "cell_type": "markdown",
   "metadata": {},
   "source": [
    "# Zadanie 4 i 5"
   ]
  },
  {
   "cell_type": "code",
   "execution_count": null,
   "metadata": {},
   "outputs": [],
   "source": [
    "class Product:\n",
    "    def __init__(self, prod_name, price, quantity):\n",
    "        self.name = prod_name\n",
    "        self.price = price\n",
    "        self.quantity = quantity\n",
    "        \n",
    "    def __str__(self):\n",
    "        return f'{self.name}  Price: {self.price}  '\n",
    "        \n",
    "class Cart:\n",
    "    content = [Product('Cereal', 9.50, 0), \n",
    "               Product('Milk', 2.50, 0), \n",
    "               Product('Bowl', 24.99, 0)]\n",
    "    \n",
    "    def add(self, name):\n",
    "        for prod in self.content:\n",
    "            if prod.name == name:\n",
    "                prod.quantity += 1\n",
    "    \n",
    "    def remove(self, name):\n",
    "        for prod in self.content:\n",
    "            if prod.name == name and prod.quantity > 0:\n",
    "                prod.quantity -= 1\n",
    "    \n",
    "    def total_price(self):\n",
    "        return round(sum(map(lambda product: product.price*product.quantity, self.content)), 2)\n",
    "    \n",
    "    def __str__(self):\n",
    "        return '       Cart content:\\n' + \\\n",
    "                '\\n'.join((f'{str(product)}  Quantity: {product.quantity}' for product in self.content))\n",
    "\n",
    "    def __len__(self):\n",
    "        return sum((product.quantity for product in cart.content))\n",
    "    \n",
    "    def __iter__(self):\n",
    "        self._iter = iter(self.content)\n",
    "        return self._iter\n",
    "    \n",
    "    def __next__(self):\n",
    "        return next(self._iter)       \n",
    "    \n",
    "cart = Cart()\n",
    "cart.add('Milk')\n",
    "cart.add('Milk')\n",
    "cart.add('Milk')\n",
    "cart.add('Bowl')\n",
    "cart.add('Bowl')\n",
    "cart.add('Cereal')\n",
    "print(cart.total_price(),'\\n')\n",
    "\n",
    "for product in cart:\n",
    "    cart.remove(product.name)\n",
    "\n",
    "print(cart,'\\n')\n",
    "print('Amount of products in cart:', len(cart))\n",
    "print(cart.total_price())"
   ]
  }
 ],
 "metadata": {
  "kernelspec": {
   "display_name": "Python 3",
   "language": "python",
   "name": "python3"
  },
  "language_info": {
   "codemirror_mode": {
    "name": "ipython",
    "version": 3
   },
   "file_extension": ".py",
   "mimetype": "text/x-python",
   "name": "python",
   "nbconvert_exporter": "python",
   "pygments_lexer": "ipython3",
   "version": "3.8.3"
  }
 },
 "nbformat": 4,
 "nbformat_minor": 4
}
