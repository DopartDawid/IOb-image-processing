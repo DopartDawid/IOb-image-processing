{
 "cells": [
  {
   "cell_type": "markdown",
   "metadata": {},
   "source": [
    "# Zadanie 1"
   ]
  },
  {
   "cell_type": "code",
   "execution_count": null,
   "metadata": {},
   "outputs": [],
   "source": [
    "print(\"Próba notebooka 2.0\")"
   ]
  },
  {
   "cell_type": "markdown",
   "metadata": {},
   "source": [
    "# Zadanie 2"
   ]
  },
  {
   "cell_type": "code",
   "execution_count": null,
   "metadata": {},
   "outputs": [],
   "source": [
    "import cowsay\n",
    "from joke_generator import generate\n",
    "cowsay.milk(generate())"
   ]
  },
  {
   "cell_type": "markdown",
   "metadata": {},
   "source": [
    "# Zadanie 3"
   ]
  },
  {
   "cell_type": "code",
   "execution_count": null,
   "metadata": {},
   "outputs": [],
   "source": [
    "from math import gcd, sin, cos, radians\n",
    "def tangens(arg1, arg2):\n",
    "    return sin(radians(arg1)) / cos(radians(arg2))\n",
    "\n",
    "result = open('output.txt', 'w')\n",
    "for args in open('input.txt', 'r').readlines():\n",
    "    args=list(map(int, args.split()))\n",
    "    result.write(f\" {args[0]}  {args[1]} | gcd: {gcd(*args)}  tan: {round(tangens(*args), 4)} \\n\")\n"
   ]
  },
  {
   "cell_type": "markdown",
   "metadata": {},
   "source": [
    "# Zadanie 4 i 5"
   ]
  },
  {
   "cell_type": "code",
   "execution_count": null,
   "metadata": {},
   "outputs": [],
   "source": [
    "class Product:\n",
    "    def __init__(self, name, price, quantity):\n",
    "        self.name = name\n",
    "        self.price = price\n",
    "        self.quantity = quantity\n",
    "        \n",
    "    def __str__(self):\n",
    "        return f'{self.name}  Price: {self.price}  '\n",
    "        \n",
    "class Cart:\n",
    "    content = [Product('Cereal', 9.50, 0), \n",
    "               Product('Milk', 2.50, 0), \n",
    "               Product('Bowl', 24.99, 0)]\n",
    "    \n",
    "    def __str__(self):\n",
    "        return 'Cart content:\\n' + \\\n",
    "                '\\n'.join([f'{str(prod)}  Quantity: {prod.quantity}' for prod in self.content])\n",
    "\n",
    "    def __len__(self):\n",
    "        return sum([prod.quantity for prod in cart.content])\n",
    "    \n",
    "    def __iter__(self):\n",
    "        return iter(self.content)\n",
    "    \n",
    "    def __next__(self):\n",
    "        return self.content.next()\n",
    "    \n",
    "    def add(self, name):\n",
    "        for prod in self.content:\n",
    "            if prod.name == name:\n",
    "                prod.quantity += 1\n",
    "    \n",
    "    def remove(self, name):\n",
    "        for prod in self.content:\n",
    "            if prod.name == name and prod.quantity > 0:\n",
    "                prod.quantity -= 1\n",
    "    \n",
    "    def total_price(self):\n",
    "        total = 0\n",
    "        for prod in self.content:\n",
    "            total += prod.price * prod.quantity\n",
    "        return round(total, 2)\n",
    "    \n",
    "    \n",
    "    \n",
    "cart = Cart()\n",
    "for product in cart:\n",
    "    print(product)"
   ]
  },
  {
   "cell_type": "markdown",
   "metadata": {},
   "source": [
    "# Zadanie 5"
   ]
  },
  {
   "cell_type": "code",
   "execution_count": null,
   "metadata": {},
   "outputs": [],
   "source": []
  }
 ],
 "metadata": {
  "kernelspec": {
   "display_name": "Python 3",
   "language": "python",
   "name": "python3"
  },
  "language_info": {
   "codemirror_mode": {
    "name": "ipython",
    "version": 3
   },
   "file_extension": ".py",
   "mimetype": "text/x-python",
   "name": "python",
   "nbconvert_exporter": "python",
   "pygments_lexer": "ipython3",
   "version": "3.8.3"
  }
 },
 "nbformat": 4,
 "nbformat_minor": 4
}
