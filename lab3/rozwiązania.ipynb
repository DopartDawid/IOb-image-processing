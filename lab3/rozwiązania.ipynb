{
 "cells": [
  {
   "cell_type": "markdown",
   "metadata": {},
   "source": [
    "# Zadanie 1"
   ]
  },
  {
   "cell_type": "code",
   "execution_count": null,
   "metadata": {},
   "outputs": [],
   "source": [
    "import cv2 as cv \n",
    "import numpy as np\n",
    "from matplotlib import pyplot as plt\n",
    "plt.rcParams[\"figure.figsize\"] = (16, 9)\n",
    "image = cv.imread(\"images/miasto.jpg\")\n",
    "print('Resolution:', image.shape)\n",
    "kernel = [\n",
    "    [-1, -1, -1],\n",
    "    [-1, 8, -1],\n",
    "    [-1, -1, -1],\n",
    "]\n",
    "kernel = np.asarray(kernel)\n",
    "filtered_image = cv.filter2D(image, -1, kernel=kernel)\n",
    "plt.imshow(cv.cvtColor(filtered_image, cv.COLOR_BGR2RGB))"
   ]
  },
  {
   "cell_type": "markdown",
   "metadata": {},
   "source": [
    "# Zadanie 2"
   ]
  },
  {
   "cell_type": "code",
   "execution_count": null,
   "metadata": {},
   "outputs": [],
   "source": [
    "matrix = [\n",
    "    [0.393, 0.769, 0.189],\n",
    "    [0.349, 0.689, 0.168],\n",
    "    [0.272, 0.534, 0.131]\n",
    "]\n",
    "image2 = cv.cvtColor(np.array(image, dtype='float32')/255, cv.COLOR_BGR2RGB)\n",
    "# F dla tych którzy nie wiedzieli o transform()\n",
    "image2 = cv.transform(image2, np.matrix(matrix))\n",
    "image2[np.where(image2 > 1.0)] = 1.0\n",
    "\n",
    "plt.imshow(image2)"
   ]
  },
  {
   "cell_type": "markdown",
   "metadata": {},
   "source": [
    "# Zadanie 3"
   ]
  },
  {
   "cell_type": "code",
   "execution_count": null,
   "metadata": {
    "scrolled": false
   },
   "outputs": [],
   "source": [
    "matrix = [\n",
    "    [0.229, 0.587, 0.114],\n",
    "    [0.500, -0.418, -0.082],\n",
    "    [-0.168, -0.331, 0.500]\n",
    "]\n",
    "fig, ax = plt.subplots(1, 2)\n",
    "imageYCrCb = cv.cvtColor(np.array(image, dtype='float32'), cv.COLOR_BGR2RGB)\n",
    "imageYCrCb = cv.transform(imageYCrCb, np.matrix(matrix))\n",
    "imageYCrCb[:,:,1] += 128.0\n",
    "imageYCrCb[:,:,2] += 128.0\n",
    "imageYCrCb[np.where(imageYCrCb > 255.0)] = 255.0\n",
    "imageYCrCb[np.where(imageYCrCb < 0.0)] = 0.0\n",
    "imageYCrCb = imageYCrCb.astype('uint8')\n",
    "\n",
    "ax[0].imshow(cv.cvtColor(image, cv.COLOR_BGR2RGB))\n",
    "ax[1].imshow(cv.cvtColor(imageYCrCb, cv.COLOR_YCrCb2RGB))\n",
    "fig, ax = plt.subplots(1, 3)\n",
    "ax[0].set_xlabel('Y')\n",
    "ax[0].imshow(imageYCrCb[:,:,0], cmap=\"Greys\")\n",
    "ax[1].set_xlabel('Cr')\n",
    "ax[1].imshow(imageYCrCb[:,:,1], cmap=\"Greys\")\n",
    "ax[2].set_xlabel('Cb')\n",
    "ax[2].imshow(imageYCrCb[:,:,2], cmap=\"Greys\")"
   ]
  },
  {
   "cell_type": "markdown",
   "metadata": {},
   "source": [
    "# Zadanie 4"
   ]
  },
  {
   "cell_type": "code",
   "execution_count": null,
   "metadata": {
    "scrolled": false
   },
   "outputs": [],
   "source": [
    "scale = 4   # \"stopień\" downsamplingu - liczba stosowna do wymiarów obrazu\n",
    "scale_helper = {4:(2,2), 8:[2,4], 9:[3,3], 16:[4,4], 32:[4,8],\n",
    "                64:[8,8], 100:[10,10], 900:[30,30], 10000:[100,100]} # co który pixel h,w\n",
    "height, width = scale_helper[scale]\n",
    "\n",
    "cr_cb = np.zeros([image.shape[0]//height, image.shape[1]//width, 2]).astype('uint8')\n",
    "cr_cb[:,:,:] = imageYCrCb[::height, ::width, 1:]\n",
    "up_data = np.zeros([image.shape[0], image.shape[1],3]).astype('uint8')\n",
    "for y in range(height):\n",
    "    for x in range(width):\n",
    "        up_data[y::height, x::width, 1:] = cr_cb[:,:,:]\n",
    "up_data[:,:,0] = imageYCrCb[:,:,0]\n",
    "\n",
    "plt.imshow(cv.cvtColor(up_data, cv.COLOR_YCrCb2RGB))\n",
    "fig, ax = plt.subplots(1,3)\n",
    "ax[0].set_xlabel('Y')\n",
    "ax[0].imshow(up_data[:,:,0], cmap=\"Greys\")\n",
    "ax[1].set_xlabel('Cr')\n",
    "ax[1].imshow(up_data[:,:,1], cmap=\"Greys\")\n",
    "ax[2].set_xlabel('Cb')\n",
    "ax[2].imshow(up_data[:,:,2], cmap=\"Greys\")"
   ]
  },
  {
   "cell_type": "markdown",
   "metadata": {},
   "source": [
    "# Zadanie 5"
   ]
  },
  {
   "cell_type": "code",
   "execution_count": null,
   "metadata": {},
   "outputs": [],
   "source": [
    "def MSE(image_in, image_out):\n",
    "    result = np.sum((image_in.astype(float) - image_out.astype(float))**2)\n",
    "    return result / (image.shape[0] * image.shape[1] * image.shape[2])\n",
    "\n",
    "print(MSE(cv.cvtColor(image, cv.COLOR_BGR2RGB), cv.cvtColor(up_data, cv.COLOR_YCrCb2RGB)))            "
   ]
  }
 ],
 "metadata": {
  "kernelspec": {
   "display_name": "Python 3",
   "language": "python",
   "name": "python3"
  },
  "language_info": {
   "codemirror_mode": {
    "name": "ipython",
    "version": 3
   },
   "file_extension": ".py",
   "mimetype": "text/x-python",
   "name": "python",
   "nbconvert_exporter": "python",
   "pygments_lexer": "ipython3",
   "version": "3.8.3"
  }
 },
 "nbformat": 4,
 "nbformat_minor": 4
}
